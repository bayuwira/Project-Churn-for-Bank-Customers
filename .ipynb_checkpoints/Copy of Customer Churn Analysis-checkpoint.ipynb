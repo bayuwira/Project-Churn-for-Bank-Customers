{
 "cells": [
  {
   "cell_type": "markdown",
   "id": "5fbbdae8",
   "metadata": {
    "id": "5fbbdae8"
   },
   "source": [
    "# Customer Churn Analysis"
   ]
  },
  {
   "cell_type": "code",
   "execution_count": 44,
   "id": "11948efa",
   "metadata": {
    "id": "11948efa"
   },
   "outputs": [],
   "source": [
    "import pandas as pd\n",
    "import matplotlib.pyplot as plt\n",
    "import seaborn as sns\n",
    "import numpy as np\n",
    "\n",
    "from matplotlib import rcParams\n",
    "rcParams['figure.figsize'] = 10, 5\n",
    "rcParams['lines.linewidth'] = 3\n",
    "rcParams['xtick.labelsize'] = 'x-large'\n",
    "rcParams['ytick.labelsize'] = 'x-large'"
   ]
  },
  {
   "cell_type": "code",
   "execution_count": 2,
   "id": "92e83021",
   "metadata": {
    "id": "92e83021"
   },
   "outputs": [],
   "source": [
    "df = pd.read_csv(\"churn.csv\")"
   ]
  },
  {
   "cell_type": "markdown",
   "id": "01fee939",
   "metadata": {
    "id": "01fee939"
   },
   "source": [
    "### Content \n",
    "*   RowNumber—corresponds to the record (row) number and has no effect on the output.\n",
    "*   CustomerId—contains random values and has no effect on customer leaving the bank.\n",
    "*   Surname—the surname of a customer has no impact on their decision to leave the bank.\n",
    "*   CreditScore—can have an effect on customer churn, since a customer with a higher credit score is less likely to leave the bank.\n",
    "*   Geography—a customer’s location can affect their decision to leave the bank.\n",
    "*   Gender—it’s interesting to explore whether gender plays a role in a customer leaving the bank.\n",
    "*   Age—this is certainly relevant, since older customers are less likely to leave their bank than younger ones.\n",
    "*   Tenure—refers to the number of years that the customer has been a client of the bank. Normally, older clients are more loyal and less likely to leave a bank.\n",
    "\n",
    "\n",
    "\n",
    "```\n",
    "1.   Balance—also a very good indicator of customer churn, as people with a higher balance in their accounts are less likely to leave the bank compared to those with lower balances.\n",
    "2.   NumOfProducts—refers to the number of products that a customer has purchased through the bank.\n",
    "3.   HasCrCard—denotes whether or not a customer has a credit card. This column is also relevant, since people with a credit card are less likely to leave the bank.\n",
    "4.   IsActiveMember—active customers are less likely to leave the bank.\n",
    "5.   EstimatedSalary—as with balance, people with lower salaries are more likely to leave the bank compared to those with higher salaries.\n",
    "6.   Exited—whether or not the customer left the bank.\n",
    "```\n"
   ]
  },
  {
   "cell_type": "code",
   "execution_count": 3,
   "id": "4c3e60e9",
   "metadata": {
    "id": "4c3e60e9",
    "outputId": "43228d0d-3522-42a6-88a0-90090a770020"
   },
   "outputs": [
    {
     "data": {
      "text/html": [
       "<div>\n",
       "<style scoped>\n",
       "    .dataframe tbody tr th:only-of-type {\n",
       "        vertical-align: middle;\n",
       "    }\n",
       "\n",
       "    .dataframe tbody tr th {\n",
       "        vertical-align: top;\n",
       "    }\n",
       "\n",
       "    .dataframe thead th {\n",
       "        text-align: right;\n",
       "    }\n",
       "</style>\n",
       "<table border=\"1\" class=\"dataframe\">\n",
       "  <thead>\n",
       "    <tr style=\"text-align: right;\">\n",
       "      <th></th>\n",
       "      <th>RowNumber</th>\n",
       "      <th>CustomerId</th>\n",
       "      <th>Surname</th>\n",
       "      <th>CreditScore</th>\n",
       "      <th>Geography</th>\n",
       "      <th>Gender</th>\n",
       "      <th>Age</th>\n",
       "      <th>Tenure</th>\n",
       "      <th>Balance</th>\n",
       "      <th>NumOfProducts</th>\n",
       "      <th>HasCrCard</th>\n",
       "      <th>IsActiveMember</th>\n",
       "      <th>EstimatedSalary</th>\n",
       "      <th>Exited</th>\n",
       "    </tr>\n",
       "  </thead>\n",
       "  <tbody>\n",
       "    <tr>\n",
       "      <th>1795</th>\n",
       "      <td>1796</td>\n",
       "      <td>15757648</td>\n",
       "      <td>Marshall</td>\n",
       "      <td>683</td>\n",
       "      <td>Germany</td>\n",
       "      <td>Female</td>\n",
       "      <td>35</td>\n",
       "      <td>5</td>\n",
       "      <td>95698.79</td>\n",
       "      <td>1</td>\n",
       "      <td>0</td>\n",
       "      <td>1</td>\n",
       "      <td>182566.76</td>\n",
       "      <td>0</td>\n",
       "    </tr>\n",
       "    <tr>\n",
       "      <th>9998</th>\n",
       "      <td>9999</td>\n",
       "      <td>15682355</td>\n",
       "      <td>Sabbatini</td>\n",
       "      <td>772</td>\n",
       "      <td>Germany</td>\n",
       "      <td>Male</td>\n",
       "      <td>42</td>\n",
       "      <td>3</td>\n",
       "      <td>75075.31</td>\n",
       "      <td>2</td>\n",
       "      <td>1</td>\n",
       "      <td>0</td>\n",
       "      <td>92888.52</td>\n",
       "      <td>1</td>\n",
       "    </tr>\n",
       "    <tr>\n",
       "      <th>9683</th>\n",
       "      <td>9684</td>\n",
       "      <td>15607112</td>\n",
       "      <td>Chiawuotu</td>\n",
       "      <td>606</td>\n",
       "      <td>France</td>\n",
       "      <td>Male</td>\n",
       "      <td>32</td>\n",
       "      <td>6</td>\n",
       "      <td>0.00</td>\n",
       "      <td>2</td>\n",
       "      <td>0</td>\n",
       "      <td>1</td>\n",
       "      <td>36540.63</td>\n",
       "      <td>0</td>\n",
       "    </tr>\n",
       "    <tr>\n",
       "      <th>419</th>\n",
       "      <td>420</td>\n",
       "      <td>15615624</td>\n",
       "      <td>De Salis</td>\n",
       "      <td>605</td>\n",
       "      <td>France</td>\n",
       "      <td>Female</td>\n",
       "      <td>28</td>\n",
       "      <td>6</td>\n",
       "      <td>0.00</td>\n",
       "      <td>2</td>\n",
       "      <td>0</td>\n",
       "      <td>0</td>\n",
       "      <td>159508.52</td>\n",
       "      <td>0</td>\n",
       "    </tr>\n",
       "    <tr>\n",
       "      <th>494</th>\n",
       "      <td>495</td>\n",
       "      <td>15585865</td>\n",
       "      <td>Westerberg</td>\n",
       "      <td>673</td>\n",
       "      <td>France</td>\n",
       "      <td>Female</td>\n",
       "      <td>38</td>\n",
       "      <td>2</td>\n",
       "      <td>170061.92</td>\n",
       "      <td>2</td>\n",
       "      <td>0</td>\n",
       "      <td>0</td>\n",
       "      <td>134901.34</td>\n",
       "      <td>1</td>\n",
       "    </tr>\n",
       "    <tr>\n",
       "      <th>7162</th>\n",
       "      <td>7163</td>\n",
       "      <td>15780088</td>\n",
       "      <td>Porter</td>\n",
       "      <td>607</td>\n",
       "      <td>Spain</td>\n",
       "      <td>Male</td>\n",
       "      <td>34</td>\n",
       "      <td>9</td>\n",
       "      <td>132439.99</td>\n",
       "      <td>1</td>\n",
       "      <td>1</td>\n",
       "      <td>0</td>\n",
       "      <td>177747.72</td>\n",
       "      <td>0</td>\n",
       "    </tr>\n",
       "    <tr>\n",
       "      <th>1136</th>\n",
       "      <td>1137</td>\n",
       "      <td>15614220</td>\n",
       "      <td>Benson</td>\n",
       "      <td>750</td>\n",
       "      <td>France</td>\n",
       "      <td>Male</td>\n",
       "      <td>22</td>\n",
       "      <td>5</td>\n",
       "      <td>0.00</td>\n",
       "      <td>2</td>\n",
       "      <td>0</td>\n",
       "      <td>1</td>\n",
       "      <td>105125.65</td>\n",
       "      <td>0</td>\n",
       "    </tr>\n",
       "    <tr>\n",
       "      <th>2647</th>\n",
       "      <td>2648</td>\n",
       "      <td>15687162</td>\n",
       "      <td>Clayton</td>\n",
       "      <td>461</td>\n",
       "      <td>France</td>\n",
       "      <td>Male</td>\n",
       "      <td>51</td>\n",
       "      <td>9</td>\n",
       "      <td>119889.84</td>\n",
       "      <td>1</td>\n",
       "      <td>0</td>\n",
       "      <td>0</td>\n",
       "      <td>56767.67</td>\n",
       "      <td>1</td>\n",
       "    </tr>\n",
       "    <tr>\n",
       "      <th>4127</th>\n",
       "      <td>4128</td>\n",
       "      <td>15625545</td>\n",
       "      <td>Hussey</td>\n",
       "      <td>712</td>\n",
       "      <td>Spain</td>\n",
       "      <td>Male</td>\n",
       "      <td>52</td>\n",
       "      <td>9</td>\n",
       "      <td>0.00</td>\n",
       "      <td>1</td>\n",
       "      <td>1</td>\n",
       "      <td>1</td>\n",
       "      <td>117977.45</td>\n",
       "      <td>1</td>\n",
       "    </tr>\n",
       "    <tr>\n",
       "      <th>9875</th>\n",
       "      <td>9876</td>\n",
       "      <td>15747130</td>\n",
       "      <td>Tsao</td>\n",
       "      <td>521</td>\n",
       "      <td>France</td>\n",
       "      <td>Male</td>\n",
       "      <td>39</td>\n",
       "      <td>7</td>\n",
       "      <td>0.00</td>\n",
       "      <td>2</td>\n",
       "      <td>0</td>\n",
       "      <td>1</td>\n",
       "      <td>653.58</td>\n",
       "      <td>0</td>\n",
       "    </tr>\n",
       "  </tbody>\n",
       "</table>\n",
       "</div>"
      ],
      "text/plain": [
       "      RowNumber  CustomerId     Surname  CreditScore Geography  Gender  Age  \\\n",
       "1795       1796    15757648    Marshall          683   Germany  Female   35   \n",
       "9998       9999    15682355   Sabbatini          772   Germany    Male   42   \n",
       "9683       9684    15607112   Chiawuotu          606    France    Male   32   \n",
       "419         420    15615624    De Salis          605    France  Female   28   \n",
       "494         495    15585865  Westerberg          673    France  Female   38   \n",
       "7162       7163    15780088      Porter          607     Spain    Male   34   \n",
       "1136       1137    15614220      Benson          750    France    Male   22   \n",
       "2647       2648    15687162     Clayton          461    France    Male   51   \n",
       "4127       4128    15625545      Hussey          712     Spain    Male   52   \n",
       "9875       9876    15747130        Tsao          521    France    Male   39   \n",
       "\n",
       "      Tenure    Balance  NumOfProducts  HasCrCard  IsActiveMember  \\\n",
       "1795       5   95698.79              1          0               1   \n",
       "9998       3   75075.31              2          1               0   \n",
       "9683       6       0.00              2          0               1   \n",
       "419        6       0.00              2          0               0   \n",
       "494        2  170061.92              2          0               0   \n",
       "7162       9  132439.99              1          1               0   \n",
       "1136       5       0.00              2          0               1   \n",
       "2647       9  119889.84              1          0               0   \n",
       "4127       9       0.00              1          1               1   \n",
       "9875       7       0.00              2          0               1   \n",
       "\n",
       "      EstimatedSalary  Exited  \n",
       "1795        182566.76       0  \n",
       "9998         92888.52       1  \n",
       "9683         36540.63       0  \n",
       "419         159508.52       0  \n",
       "494         134901.34       1  \n",
       "7162        177747.72       0  \n",
       "1136        105125.65       0  \n",
       "2647         56767.67       1  \n",
       "4127        117977.45       1  \n",
       "9875           653.58       0  "
      ]
     },
     "execution_count": 3,
     "metadata": {},
     "output_type": "execute_result"
    }
   ],
   "source": [
    "df.sample(10)"
   ]
  },
  {
   "cell_type": "markdown",
   "id": "98f36f5b",
   "metadata": {},
   "source": [
    "# Data Understanding"
   ]
  },
  {
   "cell_type": "code",
   "execution_count": 6,
   "id": "31a366f9",
   "metadata": {},
   "outputs": [
    {
     "name": "stdout",
     "output_type": "stream",
     "text": [
      "<class 'pandas.core.frame.DataFrame'>\n",
      "RangeIndex: 10000 entries, 0 to 9999\n",
      "Data columns (total 14 columns):\n",
      " #   Column           Non-Null Count  Dtype  \n",
      "---  ------           --------------  -----  \n",
      " 0   RowNumber        10000 non-null  int64  \n",
      " 1   CustomerId       10000 non-null  int64  \n",
      " 2   Surname          10000 non-null  object \n",
      " 3   CreditScore      10000 non-null  int64  \n",
      " 4   Geography        10000 non-null  object \n",
      " 5   Gender           10000 non-null  object \n",
      " 6   Age              10000 non-null  int64  \n",
      " 7   Tenure           10000 non-null  int64  \n",
      " 8   Balance          10000 non-null  float64\n",
      " 9   NumOfProducts    10000 non-null  int64  \n",
      " 10  HasCrCard        10000 non-null  int64  \n",
      " 11  IsActiveMember   10000 non-null  int64  \n",
      " 12  EstimatedSalary  10000 non-null  float64\n",
      " 13  Exited           10000 non-null  int64  \n",
      "dtypes: float64(2), int64(9), object(3)\n",
      "memory usage: 1.1+ MB\n"
     ]
    }
   ],
   "source": [
    "df.info()"
   ]
  },
  {
   "cell_type": "code",
   "execution_count": 31,
   "id": "dd0affd9",
   "metadata": {},
   "outputs": [
    {
     "data": {
      "text/plain": [
       "CreditScore        0\n",
       "Geography          0\n",
       "Gender             0\n",
       "Age                0\n",
       "Tenure             0\n",
       "Balance            0\n",
       "NumOfProducts      0\n",
       "HasCrCard          0\n",
       "IsActiveMember     0\n",
       "EstimatedSalary    0\n",
       "Exited             0\n",
       "dtype: int64"
      ]
     },
     "execution_count": 31,
     "metadata": {},
     "output_type": "execute_result"
    }
   ],
   "source": [
    "df.isnull().sum()"
   ]
  },
  {
   "cell_type": "code",
   "execution_count": 32,
   "id": "53098406",
   "metadata": {},
   "outputs": [
    {
     "data": {
      "text/plain": [
       "0"
      ]
     },
     "execution_count": 32,
     "metadata": {},
     "output_type": "execute_result"
    }
   ],
   "source": [
    "df.duplicated().sum()"
   ]
  },
  {
   "cell_type": "code",
   "execution_count": 4,
   "id": "128f5956",
   "metadata": {
    "id": "128f5956",
    "outputId": "04b0279d-fe54-4c39-cefc-aedc67735800"
   },
   "outputs": [
    {
     "data": {
      "text/html": [
       "<div>\n",
       "<style scoped>\n",
       "    .dataframe tbody tr th:only-of-type {\n",
       "        vertical-align: middle;\n",
       "    }\n",
       "\n",
       "    .dataframe tbody tr th {\n",
       "        vertical-align: top;\n",
       "    }\n",
       "\n",
       "    .dataframe thead th {\n",
       "        text-align: right;\n",
       "    }\n",
       "</style>\n",
       "<table border=\"1\" class=\"dataframe\">\n",
       "  <thead>\n",
       "    <tr style=\"text-align: right;\">\n",
       "      <th></th>\n",
       "      <th>RowNumber</th>\n",
       "      <th>CustomerId</th>\n",
       "      <th>CreditScore</th>\n",
       "      <th>Age</th>\n",
       "      <th>Tenure</th>\n",
       "      <th>Balance</th>\n",
       "      <th>NumOfProducts</th>\n",
       "      <th>HasCrCard</th>\n",
       "      <th>IsActiveMember</th>\n",
       "      <th>EstimatedSalary</th>\n",
       "      <th>Exited</th>\n",
       "    </tr>\n",
       "  </thead>\n",
       "  <tbody>\n",
       "    <tr>\n",
       "      <th>count</th>\n",
       "      <td>10000.00000</td>\n",
       "      <td>1.000000e+04</td>\n",
       "      <td>10000.000000</td>\n",
       "      <td>10000.000000</td>\n",
       "      <td>10000.000000</td>\n",
       "      <td>10000.000000</td>\n",
       "      <td>10000.000000</td>\n",
       "      <td>10000.00000</td>\n",
       "      <td>10000.000000</td>\n",
       "      <td>10000.000000</td>\n",
       "      <td>10000.000000</td>\n",
       "    </tr>\n",
       "    <tr>\n",
       "      <th>mean</th>\n",
       "      <td>5000.50000</td>\n",
       "      <td>1.569094e+07</td>\n",
       "      <td>650.528800</td>\n",
       "      <td>38.921800</td>\n",
       "      <td>5.012800</td>\n",
       "      <td>76485.889288</td>\n",
       "      <td>1.530200</td>\n",
       "      <td>0.70550</td>\n",
       "      <td>0.515100</td>\n",
       "      <td>100090.239881</td>\n",
       "      <td>0.203700</td>\n",
       "    </tr>\n",
       "    <tr>\n",
       "      <th>std</th>\n",
       "      <td>2886.89568</td>\n",
       "      <td>7.193619e+04</td>\n",
       "      <td>96.653299</td>\n",
       "      <td>10.487806</td>\n",
       "      <td>2.892174</td>\n",
       "      <td>62397.405202</td>\n",
       "      <td>0.581654</td>\n",
       "      <td>0.45584</td>\n",
       "      <td>0.499797</td>\n",
       "      <td>57510.492818</td>\n",
       "      <td>0.402769</td>\n",
       "    </tr>\n",
       "    <tr>\n",
       "      <th>min</th>\n",
       "      <td>1.00000</td>\n",
       "      <td>1.556570e+07</td>\n",
       "      <td>350.000000</td>\n",
       "      <td>18.000000</td>\n",
       "      <td>0.000000</td>\n",
       "      <td>0.000000</td>\n",
       "      <td>1.000000</td>\n",
       "      <td>0.00000</td>\n",
       "      <td>0.000000</td>\n",
       "      <td>11.580000</td>\n",
       "      <td>0.000000</td>\n",
       "    </tr>\n",
       "    <tr>\n",
       "      <th>25%</th>\n",
       "      <td>2500.75000</td>\n",
       "      <td>1.562853e+07</td>\n",
       "      <td>584.000000</td>\n",
       "      <td>32.000000</td>\n",
       "      <td>3.000000</td>\n",
       "      <td>0.000000</td>\n",
       "      <td>1.000000</td>\n",
       "      <td>0.00000</td>\n",
       "      <td>0.000000</td>\n",
       "      <td>51002.110000</td>\n",
       "      <td>0.000000</td>\n",
       "    </tr>\n",
       "    <tr>\n",
       "      <th>50%</th>\n",
       "      <td>5000.50000</td>\n",
       "      <td>1.569074e+07</td>\n",
       "      <td>652.000000</td>\n",
       "      <td>37.000000</td>\n",
       "      <td>5.000000</td>\n",
       "      <td>97198.540000</td>\n",
       "      <td>1.000000</td>\n",
       "      <td>1.00000</td>\n",
       "      <td>1.000000</td>\n",
       "      <td>100193.915000</td>\n",
       "      <td>0.000000</td>\n",
       "    </tr>\n",
       "    <tr>\n",
       "      <th>75%</th>\n",
       "      <td>7500.25000</td>\n",
       "      <td>1.575323e+07</td>\n",
       "      <td>718.000000</td>\n",
       "      <td>44.000000</td>\n",
       "      <td>7.000000</td>\n",
       "      <td>127644.240000</td>\n",
       "      <td>2.000000</td>\n",
       "      <td>1.00000</td>\n",
       "      <td>1.000000</td>\n",
       "      <td>149388.247500</td>\n",
       "      <td>0.000000</td>\n",
       "    </tr>\n",
       "    <tr>\n",
       "      <th>max</th>\n",
       "      <td>10000.00000</td>\n",
       "      <td>1.581569e+07</td>\n",
       "      <td>850.000000</td>\n",
       "      <td>92.000000</td>\n",
       "      <td>10.000000</td>\n",
       "      <td>250898.090000</td>\n",
       "      <td>4.000000</td>\n",
       "      <td>1.00000</td>\n",
       "      <td>1.000000</td>\n",
       "      <td>199992.480000</td>\n",
       "      <td>1.000000</td>\n",
       "    </tr>\n",
       "  </tbody>\n",
       "</table>\n",
       "</div>"
      ],
      "text/plain": [
       "         RowNumber    CustomerId   CreditScore           Age        Tenure  \\\n",
       "count  10000.00000  1.000000e+04  10000.000000  10000.000000  10000.000000   \n",
       "mean    5000.50000  1.569094e+07    650.528800     38.921800      5.012800   \n",
       "std     2886.89568  7.193619e+04     96.653299     10.487806      2.892174   \n",
       "min        1.00000  1.556570e+07    350.000000     18.000000      0.000000   \n",
       "25%     2500.75000  1.562853e+07    584.000000     32.000000      3.000000   \n",
       "50%     5000.50000  1.569074e+07    652.000000     37.000000      5.000000   \n",
       "75%     7500.25000  1.575323e+07    718.000000     44.000000      7.000000   \n",
       "max    10000.00000  1.581569e+07    850.000000     92.000000     10.000000   \n",
       "\n",
       "             Balance  NumOfProducts    HasCrCard  IsActiveMember  \\\n",
       "count   10000.000000   10000.000000  10000.00000    10000.000000   \n",
       "mean    76485.889288       1.530200      0.70550        0.515100   \n",
       "std     62397.405202       0.581654      0.45584        0.499797   \n",
       "min         0.000000       1.000000      0.00000        0.000000   \n",
       "25%         0.000000       1.000000      0.00000        0.000000   \n",
       "50%     97198.540000       1.000000      1.00000        1.000000   \n",
       "75%    127644.240000       2.000000      1.00000        1.000000   \n",
       "max    250898.090000       4.000000      1.00000        1.000000   \n",
       "\n",
       "       EstimatedSalary        Exited  \n",
       "count     10000.000000  10000.000000  \n",
       "mean     100090.239881      0.203700  \n",
       "std       57510.492818      0.402769  \n",
       "min          11.580000      0.000000  \n",
       "25%       51002.110000      0.000000  \n",
       "50%      100193.915000      0.000000  \n",
       "75%      149388.247500      0.000000  \n",
       "max      199992.480000      1.000000  "
      ]
     },
     "execution_count": 4,
     "metadata": {},
     "output_type": "execute_result"
    }
   ],
   "source": [
    "df.describe()"
   ]
  },
  {
   "cell_type": "code",
   "execution_count": 5,
   "id": "58e38cd1",
   "metadata": {
    "id": "58e38cd1",
    "outputId": "9599e0c5-4956-4c9b-da5a-2aaa5e4f075e"
   },
   "outputs": [
    {
     "data": {
      "text/html": [
       "<div>\n",
       "<style scoped>\n",
       "    .dataframe tbody tr th:only-of-type {\n",
       "        vertical-align: middle;\n",
       "    }\n",
       "\n",
       "    .dataframe tbody tr th {\n",
       "        vertical-align: top;\n",
       "    }\n",
       "\n",
       "    .dataframe thead th {\n",
       "        text-align: right;\n",
       "    }\n",
       "</style>\n",
       "<table border=\"1\" class=\"dataframe\">\n",
       "  <thead>\n",
       "    <tr style=\"text-align: right;\">\n",
       "      <th></th>\n",
       "      <th>Surname</th>\n",
       "      <th>Geography</th>\n",
       "      <th>Gender</th>\n",
       "    </tr>\n",
       "  </thead>\n",
       "  <tbody>\n",
       "    <tr>\n",
       "      <th>count</th>\n",
       "      <td>10000</td>\n",
       "      <td>10000</td>\n",
       "      <td>10000</td>\n",
       "    </tr>\n",
       "    <tr>\n",
       "      <th>unique</th>\n",
       "      <td>2932</td>\n",
       "      <td>3</td>\n",
       "      <td>2</td>\n",
       "    </tr>\n",
       "    <tr>\n",
       "      <th>top</th>\n",
       "      <td>Smith</td>\n",
       "      <td>France</td>\n",
       "      <td>Male</td>\n",
       "    </tr>\n",
       "    <tr>\n",
       "      <th>freq</th>\n",
       "      <td>32</td>\n",
       "      <td>5014</td>\n",
       "      <td>5457</td>\n",
       "    </tr>\n",
       "  </tbody>\n",
       "</table>\n",
       "</div>"
      ],
      "text/plain": [
       "       Surname Geography Gender\n",
       "count    10000     10000  10000\n",
       "unique    2932         3      2\n",
       "top      Smith    France   Male\n",
       "freq        32      5014   5457"
      ]
     },
     "execution_count": 5,
     "metadata": {},
     "output_type": "execute_result"
    }
   ],
   "source": [
    "df.describe(include='object')"
   ]
  },
  {
   "cell_type": "markdown",
   "id": "db186c99",
   "metadata": {
    "id": "a3aa8962"
   },
   "source": [
    "#### Report dataset info and summary statistic\n",
    "\n",
    "1. Tidak ada missing value pada dataset\n",
    "2. Semua tipe data terlihat baik\n",
    "3. Kita memiliki data 10000 customer\n",
    "4. Kita memiliki 3 jenis tipe data yaitu integer,object and float\n",
    "5. Kolom yang possible untuk di drop adalah RowNumber, CustomerId, dan Surname karena tidak akan memberikan informasi lebih banyak.\n",
    "6. Tidak ada kolom yang memiliki missing value ataupun duplikat, namun kita akan lihat lagi data yang disimpan\n",
    "\n",
    "\n",
    "7. Credit Score customer berada pada rentang 350 sampai 850\n",
    "8. Umur customer termuda adalah 18 tahun dan paling tua ada di 92 tahun\n",
    "9. Maksimal tenure/lama kerja sama customer menggunakan bank dari data customer tersebut adalah 10 tahun, dan rata-rata 5 tahun\n",
    "10. Setiap pelanggan setidaknya menggunakan 1 produk dan maksimal 4 produk\n",
    "11. Terdapat customer yang balace pada akun bank nya adalah 0\n",
    "12. Ada customer yang tidak memiliki kartu kredit, namun lebih banyak memilikinya\n",
    "13. sebagian besar customer adalah member aktif\n",
    "14. Terlihat outlier di kolom EstimatedSalary karena ada customer yang di prediksi hanya berpenghasilan 11\n",
    "15. Customer tersebar di tiga tempat berbeda dan sebagian besar berasal dari France\n",
    "16. Kebanyakan customer adalah Male"
   ]
  },
  {
   "cell_type": "code",
   "execution_count": 7,
   "id": "887ccef7",
   "metadata": {},
   "outputs": [
    {
     "data": {
      "text/html": [
       "<div>\n",
       "<style scoped>\n",
       "    .dataframe tbody tr th:only-of-type {\n",
       "        vertical-align: middle;\n",
       "    }\n",
       "\n",
       "    .dataframe tbody tr th {\n",
       "        vertical-align: top;\n",
       "    }\n",
       "\n",
       "    .dataframe thead th {\n",
       "        text-align: right;\n",
       "    }\n",
       "</style>\n",
       "<table border=\"1\" class=\"dataframe\">\n",
       "  <thead>\n",
       "    <tr style=\"text-align: right;\">\n",
       "      <th></th>\n",
       "      <th>CreditScore</th>\n",
       "      <th>Geography</th>\n",
       "      <th>Gender</th>\n",
       "      <th>Age</th>\n",
       "      <th>Tenure</th>\n",
       "      <th>Balance</th>\n",
       "      <th>NumOfProducts</th>\n",
       "      <th>HasCrCard</th>\n",
       "      <th>IsActiveMember</th>\n",
       "      <th>EstimatedSalary</th>\n",
       "      <th>Exited</th>\n",
       "    </tr>\n",
       "  </thead>\n",
       "  <tbody>\n",
       "    <tr>\n",
       "      <th>5158</th>\n",
       "      <td>587</td>\n",
       "      <td>France</td>\n",
       "      <td>Male</td>\n",
       "      <td>55</td>\n",
       "      <td>9</td>\n",
       "      <td>0.00</td>\n",
       "      <td>1</td>\n",
       "      <td>1</td>\n",
       "      <td>0</td>\n",
       "      <td>64593.07</td>\n",
       "      <td>0</td>\n",
       "    </tr>\n",
       "    <tr>\n",
       "      <th>8825</th>\n",
       "      <td>611</td>\n",
       "      <td>Germany</td>\n",
       "      <td>Female</td>\n",
       "      <td>49</td>\n",
       "      <td>9</td>\n",
       "      <td>115488.52</td>\n",
       "      <td>2</td>\n",
       "      <td>1</td>\n",
       "      <td>1</td>\n",
       "      <td>138656.81</td>\n",
       "      <td>1</td>\n",
       "    </tr>\n",
       "    <tr>\n",
       "      <th>9246</th>\n",
       "      <td>762</td>\n",
       "      <td>France</td>\n",
       "      <td>Male</td>\n",
       "      <td>20</td>\n",
       "      <td>1</td>\n",
       "      <td>139432.55</td>\n",
       "      <td>1</td>\n",
       "      <td>1</td>\n",
       "      <td>1</td>\n",
       "      <td>85606.83</td>\n",
       "      <td>0</td>\n",
       "    </tr>\n",
       "    <tr>\n",
       "      <th>7887</th>\n",
       "      <td>716</td>\n",
       "      <td>Germany</td>\n",
       "      <td>Female</td>\n",
       "      <td>30</td>\n",
       "      <td>2</td>\n",
       "      <td>205770.78</td>\n",
       "      <td>2</td>\n",
       "      <td>0</td>\n",
       "      <td>0</td>\n",
       "      <td>65464.66</td>\n",
       "      <td>0</td>\n",
       "    </tr>\n",
       "    <tr>\n",
       "      <th>1619</th>\n",
       "      <td>656</td>\n",
       "      <td>France</td>\n",
       "      <td>Male</td>\n",
       "      <td>18</td>\n",
       "      <td>10</td>\n",
       "      <td>151762.74</td>\n",
       "      <td>1</td>\n",
       "      <td>0</td>\n",
       "      <td>1</td>\n",
       "      <td>127014.32</td>\n",
       "      <td>0</td>\n",
       "    </tr>\n",
       "    <tr>\n",
       "      <th>4518</th>\n",
       "      <td>850</td>\n",
       "      <td>Spain</td>\n",
       "      <td>Female</td>\n",
       "      <td>29</td>\n",
       "      <td>7</td>\n",
       "      <td>0.00</td>\n",
       "      <td>2</td>\n",
       "      <td>1</td>\n",
       "      <td>0</td>\n",
       "      <td>23237.25</td>\n",
       "      <td>0</td>\n",
       "    </tr>\n",
       "    <tr>\n",
       "      <th>9235</th>\n",
       "      <td>462</td>\n",
       "      <td>France</td>\n",
       "      <td>Male</td>\n",
       "      <td>27</td>\n",
       "      <td>4</td>\n",
       "      <td>176913.52</td>\n",
       "      <td>1</td>\n",
       "      <td>1</td>\n",
       "      <td>0</td>\n",
       "      <td>80587.27</td>\n",
       "      <td>0</td>\n",
       "    </tr>\n",
       "    <tr>\n",
       "      <th>1348</th>\n",
       "      <td>615</td>\n",
       "      <td>France</td>\n",
       "      <td>Male</td>\n",
       "      <td>32</td>\n",
       "      <td>7</td>\n",
       "      <td>92199.84</td>\n",
       "      <td>1</td>\n",
       "      <td>1</td>\n",
       "      <td>1</td>\n",
       "      <td>2755.53</td>\n",
       "      <td>0</td>\n",
       "    </tr>\n",
       "    <tr>\n",
       "      <th>4992</th>\n",
       "      <td>794</td>\n",
       "      <td>France</td>\n",
       "      <td>Female</td>\n",
       "      <td>62</td>\n",
       "      <td>9</td>\n",
       "      <td>123681.32</td>\n",
       "      <td>3</td>\n",
       "      <td>1</td>\n",
       "      <td>0</td>\n",
       "      <td>173586.63</td>\n",
       "      <td>1</td>\n",
       "    </tr>\n",
       "    <tr>\n",
       "      <th>9338</th>\n",
       "      <td>558</td>\n",
       "      <td>Germany</td>\n",
       "      <td>Male</td>\n",
       "      <td>58</td>\n",
       "      <td>2</td>\n",
       "      <td>142537.18</td>\n",
       "      <td>1</td>\n",
       "      <td>1</td>\n",
       "      <td>1</td>\n",
       "      <td>88791.83</td>\n",
       "      <td>0</td>\n",
       "    </tr>\n",
       "  </tbody>\n",
       "</table>\n",
       "</div>"
      ],
      "text/plain": [
       "      CreditScore Geography  Gender  Age  Tenure    Balance  NumOfProducts  \\\n",
       "5158          587    France    Male   55       9       0.00              1   \n",
       "8825          611   Germany  Female   49       9  115488.52              2   \n",
       "9246          762    France    Male   20       1  139432.55              1   \n",
       "7887          716   Germany  Female   30       2  205770.78              2   \n",
       "1619          656    France    Male   18      10  151762.74              1   \n",
       "4518          850     Spain  Female   29       7       0.00              2   \n",
       "9235          462    France    Male   27       4  176913.52              1   \n",
       "1348          615    France    Male   32       7   92199.84              1   \n",
       "4992          794    France  Female   62       9  123681.32              3   \n",
       "9338          558   Germany    Male   58       2  142537.18              1   \n",
       "\n",
       "      HasCrCard  IsActiveMember  EstimatedSalary  Exited  \n",
       "5158          1               0         64593.07       0  \n",
       "8825          1               1        138656.81       1  \n",
       "9246          1               1         85606.83       0  \n",
       "7887          0               0         65464.66       0  \n",
       "1619          0               1        127014.32       0  \n",
       "4518          1               0         23237.25       0  \n",
       "9235          1               0         80587.27       0  \n",
       "1348          1               1          2755.53       0  \n",
       "4992          1               0        173586.63       1  \n",
       "9338          1               1         88791.83       0  "
      ]
     },
     "execution_count": 7,
     "metadata": {},
     "output_type": "execute_result"
    }
   ],
   "source": [
    "df = df.drop(columns=['RowNumber', 'CustomerId','Surname'])\n",
    "df.sample(10)"
   ]
  },
  {
   "cell_type": "markdown",
   "id": "68569831",
   "metadata": {},
   "source": [
    "# Descriptive Analytics\n",
    "\n",
    "#### Descriptive Analytics basically the analysis done on the historical data in this case we have 10k customers data that's been collected over a period of time. Descriptive Analytics is useful in order to understand the trend from past."
   ]
  },
  {
   "cell_type": "markdown",
   "id": "6a0331ec",
   "metadata": {},
   "source": [
    "## EDA"
   ]
  },
  {
   "cell_type": "markdown",
   "id": "81fc9d18",
   "metadata": {},
   "source": [
    "### Check unique value"
   ]
  },
  {
   "cell_type": "code",
   "execution_count": 30,
   "id": "0ff5d825",
   "metadata": {},
   "outputs": [
    {
     "name": "stdout",
     "output_type": "stream",
     "text": [
      "Unique of CreditScore columns\n"
     ]
    },
    {
     "data": {
      "text/plain": [
       "850    233\n",
       "678     63\n",
       "655     54\n",
       "705     53\n",
       "667     53\n",
       "684     52\n",
       "670     50\n",
       "651     50\n",
       "683     48\n",
       "652     48\n",
       "648     48\n",
       "660     48\n",
       "682     47\n",
       "663     47\n",
       "640     47\n",
       "637     46\n",
       "714     45\n",
       "686     45\n",
       "710     45\n",
       "645     45\n",
       "633     45\n",
       "687     45\n",
       "679     45\n",
       "706     44\n",
       "627     44\n",
       "646     44\n",
       "619     44\n",
       "584     43\n",
       "625     43\n",
       "628     43\n",
       "608     43\n",
       "613     42\n",
       "635     42\n",
       "632     42\n",
       "701     41\n",
       "554     41\n",
       "712     41\n",
       "698     41\n",
       "601     40\n",
       "699     40\n",
       "597     40\n",
       "634     40\n",
       "606     40\n",
       "680     40\n",
       "644     39\n",
       "711     39\n",
       "681     39\n",
       "656     39\n",
       "592     38\n",
       "593     38\n",
       "Name: CreditScore, dtype: int64"
      ]
     },
     "metadata": {},
     "output_type": "display_data"
    },
    {
     "name": "stdout",
     "output_type": "stream",
     "text": [
      "================================================================================\n",
      "Unique of Geography columns\n"
     ]
    },
    {
     "data": {
      "text/plain": [
       "France     5014\n",
       "Germany    2509\n",
       "Spain      2477\n",
       "Name: Geography, dtype: int64"
      ]
     },
     "metadata": {},
     "output_type": "display_data"
    },
    {
     "name": "stdout",
     "output_type": "stream",
     "text": [
      "================================================================================\n",
      "Unique of Gender columns\n"
     ]
    },
    {
     "data": {
      "text/plain": [
       "Male      5457\n",
       "Female    4543\n",
       "Name: Gender, dtype: int64"
      ]
     },
     "metadata": {},
     "output_type": "display_data"
    },
    {
     "name": "stdout",
     "output_type": "stream",
     "text": [
      "================================================================================\n",
      "Unique of Age columns\n"
     ]
    },
    {
     "data": {
      "text/plain": [
       "37    478\n",
       "38    477\n",
       "35    474\n",
       "36    456\n",
       "34    447\n",
       "33    442\n",
       "40    432\n",
       "39    423\n",
       "32    418\n",
       "31    404\n",
       "41    366\n",
       "29    348\n",
       "30    327\n",
       "42    321\n",
       "43    297\n",
       "28    273\n",
       "44    257\n",
       "45    229\n",
       "46    226\n",
       "27    209\n",
       "26    200\n",
       "47    175\n",
       "48    168\n",
       "25    154\n",
       "49    147\n",
       "50    134\n",
       "24    132\n",
       "51    119\n",
       "52    102\n",
       "23     99\n",
       "22     84\n",
       "54     84\n",
       "55     82\n",
       "57     75\n",
       "53     74\n",
       "56     70\n",
       "58     67\n",
       "60     62\n",
       "59     62\n",
       "61     53\n",
       "21     53\n",
       "62     52\n",
       "63     40\n",
       "20     40\n",
       "64     37\n",
       "67     37\n",
       "66     35\n",
       "71     27\n",
       "19     27\n",
       "18     22\n",
       "Name: Age, dtype: int64"
      ]
     },
     "metadata": {},
     "output_type": "display_data"
    },
    {
     "name": "stdout",
     "output_type": "stream",
     "text": [
      "================================================================================\n",
      "Unique of Tenure columns\n"
     ]
    },
    {
     "data": {
      "text/plain": [
       "2     1048\n",
       "1     1035\n",
       "7     1028\n",
       "8     1025\n",
       "5     1012\n",
       "3     1009\n",
       "4      989\n",
       "9      984\n",
       "6      967\n",
       "10     490\n",
       "0      413\n",
       "Name: Tenure, dtype: int64"
      ]
     },
     "metadata": {},
     "output_type": "display_data"
    },
    {
     "name": "stdout",
     "output_type": "stream",
     "text": [
      "================================================================================\n",
      "Unique of Balance columns\n"
     ]
    },
    {
     "data": {
      "text/plain": [
       "0.00         3617\n",
       "130170.82       2\n",
       "105473.74       2\n",
       "85304.27        1\n",
       "159397.75       1\n",
       "144238.70       1\n",
       "112262.84       1\n",
       "109106.80       1\n",
       "142147.32       1\n",
       "109109.33       1\n",
       "146587.30       1\n",
       "79896.00        1\n",
       "132371.30       1\n",
       "85859.76        1\n",
       "69365.25        1\n",
       "197715.93       1\n",
       "95502.21        1\n",
       "79857.64        1\n",
       "142643.54       1\n",
       "120923.52       1\n",
       "126872.60       1\n",
       "124213.36       1\n",
       "138497.84       1\n",
       "141952.07       1\n",
       "125385.01       1\n",
       "155271.83       1\n",
       "172381.80       1\n",
       "197200.04       1\n",
       "127120.62       1\n",
       "105103.33       1\n",
       "98848.19        1\n",
       "157274.36       1\n",
       "104339.11       1\n",
       "142946.18       1\n",
       "109908.06       1\n",
       "135847.47       1\n",
       "108935.39       1\n",
       "150300.65       1\n",
       "131762.94       1\n",
       "114453.58       1\n",
       "128940.24       1\n",
       "138106.75       1\n",
       "143656.55       1\n",
       "127406.50       1\n",
       "107511.52       1\n",
       "154377.30       1\n",
       "125903.22       1\n",
       "163085.79       1\n",
       "144837.79       1\n",
       "106116.56       1\n",
       "Name: Balance, dtype: int64"
      ]
     },
     "metadata": {},
     "output_type": "display_data"
    },
    {
     "name": "stdout",
     "output_type": "stream",
     "text": [
      "================================================================================\n",
      "Unique of NumOfProducts columns\n"
     ]
    },
    {
     "data": {
      "text/plain": [
       "1    5084\n",
       "2    4590\n",
       "3     266\n",
       "4      60\n",
       "Name: NumOfProducts, dtype: int64"
      ]
     },
     "metadata": {},
     "output_type": "display_data"
    },
    {
     "name": "stdout",
     "output_type": "stream",
     "text": [
      "================================================================================\n",
      "Unique of HasCrCard columns\n"
     ]
    },
    {
     "data": {
      "text/plain": [
       "1    7055\n",
       "0    2945\n",
       "Name: HasCrCard, dtype: int64"
      ]
     },
     "metadata": {},
     "output_type": "display_data"
    },
    {
     "name": "stdout",
     "output_type": "stream",
     "text": [
      "================================================================================\n",
      "Unique of IsActiveMember columns\n"
     ]
    },
    {
     "data": {
      "text/plain": [
       "1    5151\n",
       "0    4849\n",
       "Name: IsActiveMember, dtype: int64"
      ]
     },
     "metadata": {},
     "output_type": "display_data"
    },
    {
     "name": "stdout",
     "output_type": "stream",
     "text": [
      "================================================================================\n",
      "Unique of EstimatedSalary columns\n"
     ]
    },
    {
     "data": {
      "text/plain": [
       "24924.92     2\n",
       "101348.88    1\n",
       "55313.44     1\n",
       "72500.68     1\n",
       "182692.80    1\n",
       "4993.94      1\n",
       "124964.82    1\n",
       "161971.42    1\n",
       "39488.04     1\n",
       "187811.71    1\n",
       "121505.61    1\n",
       "184514.01    1\n",
       "121311.12    1\n",
       "12873.39     1\n",
       "157238.05    1\n",
       "123242.11    1\n",
       "184399.76    1\n",
       "57323.18     1\n",
       "89874.82     1\n",
       "31422.69     1\n",
       "18988.58     1\n",
       "19842.18     1\n",
       "62627.55     1\n",
       "197266.58    1\n",
       "199992.48    1\n",
       "16403.41     1\n",
       "78854.57     1\n",
       "189310.27    1\n",
       "78088.17     1\n",
       "103305.01    1\n",
       "143301.49    1\n",
       "116124.28    1\n",
       "142730.27    1\n",
       "58076.52     1\n",
       "186123.57    1\n",
       "29664.45     1\n",
       "147963.07    1\n",
       "38466.39     1\n",
       "68293.93     1\n",
       "10288.24     1\n",
       "179446.31    1\n",
       "118929.64    1\n",
       "115037.67    1\n",
       "187280.51    1\n",
       "183540.22    1\n",
       "28531.81     1\n",
       "42730.12     1\n",
       "104721.50    1\n",
       "65219.85     1\n",
       "70563.90     1\n",
       "Name: EstimatedSalary, dtype: int64"
      ]
     },
     "metadata": {},
     "output_type": "display_data"
    },
    {
     "name": "stdout",
     "output_type": "stream",
     "text": [
      "================================================================================\n",
      "Unique of Exited columns\n"
     ]
    },
    {
     "data": {
      "text/plain": [
       "0    7963\n",
       "1    2037\n",
       "Name: Exited, dtype: int64"
      ]
     },
     "metadata": {},
     "output_type": "display_data"
    },
    {
     "name": "stdout",
     "output_type": "stream",
     "text": [
      "================================================================================\n"
     ]
    }
   ],
   "source": [
    "for column in df.columns:\n",
    "    print(\"Unique of {} columns\".format(column))\n",
    "    display(df[column].value_counts().head(50))\n",
    "    print(\"====\"*20)"
   ]
  },
  {
   "cell_type": "markdown",
   "id": "7446eb9d",
   "metadata": {},
   "source": [
    "### Vizualisation"
   ]
  },
  {
   "cell_type": "markdown",
   "id": "2bdcc14b",
   "metadata": {},
   "source": [
    "#### Target Variable"
   ]
  },
  {
   "cell_type": "code",
   "execution_count": 48,
   "id": "d33c7ab8",
   "metadata": {},
   "outputs": [
    {
     "data": {
      "image/png": "[encoded data removed]",
      "text/plain": [
       "<Figure size 720x576 with 1 Axes>"
      ]
     },
     "metadata": {},
     "output_type": "display_data"
    }
   ],
   "source": [
    "fig, ax = plt.subplots(figsize=(10,8))\n",
    "data = [df.Exited[df['Exited'] == 1].count(), df.Exited[df['Exited'] == 0].count()]\n",
    "\n",
    "ax.pie(data, explode=(0, 0.1), labels = ['Exited', 'Retained'], autopct='%1.1f%%', shadow=True)\n",
    "ax.axis('equal')\n",
    "plt.title(\"Churned and Retained proportion\", size = 15)\n",
    "plt.show()"
   ]
  },
  {
   "cell_type": "markdown",
   "id": "9cf9fd86",
   "metadata": {},
   "source": [
    "Kita tahu bahwa sekitar 20% pelanggan bank berhenti untuk menggunakan jasa bank, dan ini timpang jauh dan kemungkinan kira memerlukan overlaping data"
   ]
  },
  {
   "cell_type": "markdown",
   "id": "fb6bef75",
   "metadata": {},
   "source": [
    "### Variable Distribution"
   ]
  },
  {
   "cell_type": "markdown",
   "id": "dd86ac3c",
   "metadata": {},
   "source": [
    "#### Numeric columns"
   ]
  },
  {
   "cell_type": "code",
   "execution_count": 53,
   "id": "bd8e773f",
   "metadata": {},
   "outputs": [
    {
     "ename": "AttributeError",
     "evalue": "module 'matplotlib.pyplot' has no attribute 'set_title'",
     "output_type": "error",
     "traceback": [
      "\u001b[0;31m---------------------------------------------------------------------------\u001b[0m",
      "\u001b[0;31mAttributeError\u001b[0m                            Traceback (most recent call last)",
      "\u001b[0;32m/var/folders/5m/yg0psvpx1hj_wbdtkjr_pm6h0000gn/T/ipykernel_5357/2918087017.py\u001b[0m in \u001b[0;36m<module>\u001b[0;34m\u001b[0m\n\u001b[1;32m      2\u001b[0m \u001b[0;32mfor\u001b[0m \u001b[0mi\u001b[0m \u001b[0;32min\u001b[0m \u001b[0mrange\u001b[0m\u001b[0;34m(\u001b[0m\u001b[0;36m0\u001b[0m\u001b[0;34m,\u001b[0m \u001b[0mlen\u001b[0m\u001b[0;34m(\u001b[0m\u001b[0mnum\u001b[0m\u001b[0;34m)\u001b[0m\u001b[0;34m)\u001b[0m\u001b[0;34m:\u001b[0m\u001b[0;34m\u001b[0m\u001b[0;34m\u001b[0m\u001b[0m\n\u001b[1;32m      3\u001b[0m     \u001b[0mplt\u001b[0m\u001b[0;34m.\u001b[0m\u001b[0msubplot\u001b[0m\u001b[0;34m(\u001b[0m\u001b[0;36m1\u001b[0m\u001b[0;34m,\u001b[0m \u001b[0mlen\u001b[0m\u001b[0;34m(\u001b[0m\u001b[0mnum\u001b[0m\u001b[0;34m)\u001b[0m\u001b[0;34m,\u001b[0m \u001b[0mi\u001b[0m\u001b[0;34m+\u001b[0m\u001b[0;36m1\u001b[0m\u001b[0;34m)\u001b[0m\u001b[0;34m\u001b[0m\u001b[0;34m\u001b[0m\u001b[0m\n\u001b[0;32m----> 4\u001b[0;31m     \u001b[0mplt\u001b[0m\u001b[0;34m.\u001b[0m\u001b[0mset_title\u001b[0m\u001b[0;34m(\u001b[0m\u001b[0mnum\u001b[0m\u001b[0;34m[\u001b[0m\u001b[0mi\u001b[0m\u001b[0;34m]\u001b[0m\u001b[0;34m)\u001b[0m\u001b[0;34m\u001b[0m\u001b[0;34m\u001b[0m\u001b[0m\n\u001b[0m\u001b[1;32m      5\u001b[0m     \u001b[0msns\u001b[0m\u001b[0;34m.\u001b[0m\u001b[0mboxplot\u001b[0m\u001b[0;34m(\u001b[0m\u001b[0my\u001b[0m\u001b[0;34m=\u001b[0m\u001b[0mdf\u001b[0m\u001b[0;34m[\u001b[0m\u001b[0mnum\u001b[0m\u001b[0;34m[\u001b[0m\u001b[0mi\u001b[0m\u001b[0;34m]\u001b[0m\u001b[0;34m]\u001b[0m\u001b[0;34m,\u001b[0m \u001b[0mcolor\u001b[0m\u001b[0;34m=\u001b[0m\u001b[0;34m'red'\u001b[0m\u001b[0;34m)\u001b[0m\u001b[0;34m\u001b[0m\u001b[0;34m\u001b[0m\u001b[0m\n\u001b[1;32m      6\u001b[0m     \u001b[0mplt\u001b[0m\u001b[0;34m.\u001b[0m\u001b[0mtight_layout\u001b[0m\u001b[0;34m(\u001b[0m\u001b[0;34m)\u001b[0m\u001b[0;34m\u001b[0m\u001b[0;34m\u001b[0m\u001b[0m\n",
      "\u001b[0;31mAttributeError\u001b[0m: module 'matplotlib.pyplot' has no attribute 'set_title'"
     ]
    },
    {
     "data": {
      "image/png": "[encoded data removed]",
      "text/plain": [
       "<Figure size 720x360 with 1 Axes>"
      ]
     },
     "metadata": {
      "needs_background": "light"
     },
     "output_type": "display_data"
    }
   ],
   "source": [
    "num = ['CreditScore', 'Tenure', 'Balance', 'EstimatedSalary']\n",
    "for i in range(0, len(num)):\n",
    "    plt.subplot(1, len(num), i+1)\n",
    "    plt.set_title(num[i])\n",
    "    sns.boxplot(y=df[num[i]], color='red')\n",
    "    plt.tight_layout()"
   ]
  }
 ],
 "metadata": {
  "colab": {
   "name": "Copy of Customer Churn Analysis.ipynb",
   "provenance": [
    {
     "file_id": "https://github.com/bayuwira/Project-Churn-for-Bank-Customers/blob/main/Customer%20Churn%20Analysis.ipynb",
     "timestamp": 1632553595677
    }
   ]
  },
  "kernelspec": {
   "display_name": "Python 3 (ipykernel)",
   "language": "python",
   "name": "python3"
  },
  "language_info": {
   "codemirror_mode": {
    "name": "ipython",
    "version": 3
   },
   "file_extension": ".py",
   "mimetype": "text/x-python",
   "name": "python",
   "nbconvert_exporter": "python",
   "pygments_lexer": "ipython3",
   "version": "3.8.10"
  }
 },
 "nbformat": 4,
 "nbformat_minor": 5
}
